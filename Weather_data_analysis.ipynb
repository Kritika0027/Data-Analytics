{
  "nbformat": 4,
  "nbformat_minor": 0,
  "metadata": {
    "colab": {
      "provenance": [],
      "authorship_tag": "ABX9TyMWq8Zc5XRQQEw2DsHS0BfX",
      "include_colab_link": true
    },
    "kernelspec": {
      "name": "python3",
      "display_name": "Python 3"
    },
    "language_info": {
      "name": "python"
    }
  },
  "cells": [
    {
      "cell_type": "markdown",
      "metadata": {
        "id": "view-in-github",
        "colab_type": "text"
      },
      "source": [
        "<a href=\"https://colab.research.google.com/github/Kritika0027/Data-Analytics/blob/main/Weather_data_analysis.ipynb\" target=\"_parent\"><img src=\"https://colab.research.google.com/assets/colab-badge.svg\" alt=\"Open In Colab\"/></a>"
      ]
    },
    {
      "cell_type": "code",
      "execution_count": 1,
      "metadata": {
        "id": "rU4eFFhJQy9l"
      },
      "outputs": [],
      "source": [
        "import pandas as pd\n",
        "import numpy as np\n",
        "from sklearn.preprocessing import MinMaxScaler\n",
        "from tensorflow.keras.models import Sequential\n",
        "from tensorflow.keras.layers import Dense, SimpleRNN\n",
        "from tensorflow.keras.optimizers import Adam\n"
      ]
    },
    {
      "cell_type": "code",
      "source": [
        "url = \"https://raw.githubusercontent.com/velicki/Weather_Data_Analysis_Project/main/Weather_Data.csv\"\n",
        "data = pd.read_csv(url)\n"
      ],
      "metadata": {
        "id": "8RVk1wN7RDe_"
      },
      "execution_count": 2,
      "outputs": []
    },
    {
      "cell_type": "code",
      "source": [
        "print(data.head())"
      ],
      "metadata": {
        "colab": {
          "base_uri": "https://localhost:8080/"
        },
        "id": "iXPjEqPZRGlV",
        "outputId": "94d800ef-a53b-4a97-fc8d-e7e8ab956e3c"
      },
      "execution_count": 3,
      "outputs": [
        {
          "output_type": "stream",
          "name": "stdout",
          "text": [
            "       Date/Time  Temp_C  Dew Point Temp_C  Rel Hum_%  Wind Speed_km/h  \\\n",
            "0  1/1/2012 0:00    -1.8              -3.9         86                4   \n",
            "1  1/1/2012 1:00    -1.8              -3.7         87                4   \n",
            "2  1/1/2012 2:00    -1.8              -3.4         89                7   \n",
            "3  1/1/2012 3:00    -1.5              -3.2         88                6   \n",
            "4  1/1/2012 4:00    -1.5              -3.3         88                7   \n",
            "\n",
            "   Visibility_km  Press_kPa               Weather  \n",
            "0            8.0     101.24                   Fog  \n",
            "1            8.0     101.24                   Fog  \n",
            "2            4.0     101.26  Freezing Drizzle,Fog  \n",
            "3            4.0     101.27  Freezing Drizzle,Fog  \n",
            "4            4.8     101.23                   Fog  \n"
          ]
        }
      ]
    },
    {
      "cell_type": "code",
      "source": [
        "print(data.columns)\n"
      ],
      "metadata": {
        "colab": {
          "base_uri": "https://localhost:8080/"
        },
        "id": "cra-5Ue9RopR",
        "outputId": "1a0d5f62-2b4c-4b1b-877a-2821f2fc7e36"
      },
      "execution_count": 6,
      "outputs": [
        {
          "output_type": "stream",
          "name": "stdout",
          "text": [
            "Index(['Date/Time', 'Temp_C', 'Dew Point Temp_C', 'Rel Hum_%',\n",
            "       'Wind Speed_km/h', 'Visibility_km', 'Press_kPa', 'Weather'],\n",
            "      dtype='object')\n"
          ]
        }
      ]
    },
    {
      "cell_type": "code",
      "source": [
        "temperature_data = data['Temp_C'].values.reshape(-1, 1)\n"
      ],
      "metadata": {
        "id": "OxEvcpvbRsGk"
      },
      "execution_count": 9,
      "outputs": []
    },
    {
      "cell_type": "markdown",
      "source": [
        "Normalizing the data"
      ],
      "metadata": {
        "id": "60EY_BI3SDRV"
      }
    },
    {
      "cell_type": "code",
      "source": [
        "scaler = MinMaxScaler(feature_range=(0, 1))\n",
        "temperature_scaled = scaler.fit_transform(temperature_data)"
      ],
      "metadata": {
        "id": "eaLulQnLR-Kv"
      },
      "execution_count": 10,
      "outputs": []
    },
    {
      "cell_type": "code",
      "source": [
        "def create_sequences(data, seq_length):\n",
        "    X, y = [], []\n",
        "    for i in range(len(data) - seq_length):\n",
        "        X.append(data[i:i+seq_length])\n",
        "        y.append(data[i+seq_length])\n",
        "    return np.array(X), np.array(y)\n"
      ],
      "metadata": {
        "id": "njWAyVZSSKnB"
      },
      "execution_count": 11,
      "outputs": []
    },
    {
      "cell_type": "code",
      "source": [
        "# Set the sequence length (e.g., 30 time steps)\n",
        "sequence_length = 30\n",
        "X, y = create_sequences(temperature_scaled, sequence_length)"
      ],
      "metadata": {
        "id": "_UkBcr2kSO3S"
      },
      "execution_count": 12,
      "outputs": []
    },
    {
      "cell_type": "code",
      "source": [
        "# Reshape X to fit the RNN input shape (samples, time steps, features)\n",
        "X = X.reshape((X.shape[0], X.shape[1], 1))\n"
      ],
      "metadata": {
        "id": "QGN9vBq6SWEI"
      },
      "execution_count": 13,
      "outputs": []
    },
    {
      "cell_type": "code",
      "source": [
        "model = Sequential()\n",
        "model.add(SimpleRNN(50, activation='relu', input_shape=(sequence_length, 1)))\n",
        "model.add(Dense(1))"
      ],
      "metadata": {
        "colab": {
          "base_uri": "https://localhost:8080/"
        },
        "id": "QrrL9_r_SZHY",
        "outputId": "03c5f604-dccc-41c9-8f94-af7f16c12a4d"
      },
      "execution_count": 14,
      "outputs": [
        {
          "output_type": "stream",
          "name": "stderr",
          "text": [
            "/usr/local/lib/python3.10/dist-packages/keras/src/layers/rnn/rnn.py:204: UserWarning: Do not pass an `input_shape`/`input_dim` argument to a layer. When using Sequential models, prefer using an `Input(shape)` object as the first layer in the model instead.\n",
            "  super().__init__(**kwargs)\n"
          ]
        }
      ]
    },
    {
      "cell_type": "code",
      "source": [
        "model.compile(optimizer=Adam(learning_rate=0.001), loss='mse')"
      ],
      "metadata": {
        "id": "Z65kvxjrSdxV"
      },
      "execution_count": 15,
      "outputs": []
    },
    {
      "cell_type": "code",
      "source": [
        "split = int(len(X) * 0.8)\n",
        "X_train, y_train = X[:split], y[:split]\n",
        "X_val, y_val = X[split:], y[split:]"
      ],
      "metadata": {
        "id": "YzMDiY_-Sif1"
      },
      "execution_count": 16,
      "outputs": []
    },
    {
      "cell_type": "code",
      "source": [
        "history = model.fit(X_train, y_train, validation_data=(X_val, y_val), epochs=20, batch_size=16)"
      ],
      "metadata": {
        "colab": {
          "base_uri": "https://localhost:8080/"
        },
        "id": "jZUObHYgSki7",
        "outputId": "a93018c3-e533-469c-edc8-dd9c8d51ad37"
      },
      "execution_count": 17,
      "outputs": [
        {
          "output_type": "stream",
          "name": "stdout",
          "text": [
            "Epoch 1/20\n",
            "\u001b[1m438/438\u001b[0m \u001b[32m━━━━━━━━━━━━━━━━━━━━\u001b[0m\u001b[37m\u001b[0m \u001b[1m5s\u001b[0m 7ms/step - loss: 0.0129 - val_loss: 4.6013e-04\n",
            "Epoch 2/20\n",
            "\u001b[1m438/438\u001b[0m \u001b[32m━━━━━━━━━━━━━━━━━━━━\u001b[0m\u001b[37m\u001b[0m \u001b[1m5s\u001b[0m 10ms/step - loss: 5.9210e-04 - val_loss: 4.0050e-04\n",
            "Epoch 3/20\n",
            "\u001b[1m438/438\u001b[0m \u001b[32m━━━━━━━━━━━━━━━━━━━━\u001b[0m\u001b[37m\u001b[0m \u001b[1m3s\u001b[0m 6ms/step - loss: 5.2865e-04 - val_loss: 3.3687e-04\n",
            "Epoch 4/20\n",
            "\u001b[1m438/438\u001b[0m \u001b[32m━━━━━━━━━━━━━━━━━━━━\u001b[0m\u001b[37m\u001b[0m \u001b[1m5s\u001b[0m 7ms/step - loss: 4.6720e-04 - val_loss: 2.8867e-04\n",
            "Epoch 5/20\n",
            "\u001b[1m438/438\u001b[0m \u001b[32m━━━━━━━━━━━━━━━━━━━━\u001b[0m\u001b[37m\u001b[0m \u001b[1m4s\u001b[0m 9ms/step - loss: 3.7631e-04 - val_loss: 2.7000e-04\n",
            "Epoch 6/20\n",
            "\u001b[1m438/438\u001b[0m \u001b[32m━━━━━━━━━━━━━━━━━━━━\u001b[0m\u001b[37m\u001b[0m \u001b[1m4s\u001b[0m 7ms/step - loss: 3.2770e-04 - val_loss: 2.6981e-04\n",
            "Epoch 7/20\n",
            "\u001b[1m438/438\u001b[0m \u001b[32m━━━━━━━━━━━━━━━━━━━━\u001b[0m\u001b[37m\u001b[0m \u001b[1m5s\u001b[0m 7ms/step - loss: 3.3087e-04 - val_loss: 3.2074e-04\n",
            "Epoch 8/20\n",
            "\u001b[1m438/438\u001b[0m \u001b[32m━━━━━━━━━━━━━━━━━━━━\u001b[0m\u001b[37m\u001b[0m \u001b[1m4s\u001b[0m 9ms/step - loss: 3.6207e-04 - val_loss: 2.2556e-04\n",
            "Epoch 9/20\n",
            "\u001b[1m438/438\u001b[0m \u001b[32m━━━━━━━━━━━━━━━━━━━━\u001b[0m\u001b[37m\u001b[0m \u001b[1m3s\u001b[0m 7ms/step - loss: 2.8576e-04 - val_loss: 2.2662e-04\n",
            "Epoch 10/20\n",
            "\u001b[1m438/438\u001b[0m \u001b[32m━━━━━━━━━━━━━━━━━━━━\u001b[0m\u001b[37m\u001b[0m \u001b[1m3s\u001b[0m 6ms/step - loss: 2.9850e-04 - val_loss: 2.1736e-04\n",
            "Epoch 11/20\n",
            "\u001b[1m438/438\u001b[0m \u001b[32m━━━━━━━━━━━━━━━━━━━━\u001b[0m\u001b[37m\u001b[0m \u001b[1m5s\u001b[0m 7ms/step - loss: 2.9766e-04 - val_loss: 2.2461e-04\n",
            "Epoch 12/20\n",
            "\u001b[1m438/438\u001b[0m \u001b[32m━━━━━━━━━━━━━━━━━━━━\u001b[0m\u001b[37m\u001b[0m \u001b[1m5s\u001b[0m 6ms/step - loss: 2.6822e-04 - val_loss: 2.1673e-04\n",
            "Epoch 13/20\n",
            "\u001b[1m438/438\u001b[0m \u001b[32m━━━━━━━━━━━━━━━━━━━━\u001b[0m\u001b[37m\u001b[0m \u001b[1m3s\u001b[0m 7ms/step - loss: 2.8574e-04 - val_loss: 2.0847e-04\n",
            "Epoch 14/20\n",
            "\u001b[1m438/438\u001b[0m \u001b[32m━━━━━━━━━━━━━━━━━━━━\u001b[0m\u001b[37m\u001b[0m \u001b[1m6s\u001b[0m 8ms/step - loss: 2.7993e-04 - val_loss: 2.1199e-04\n",
            "Epoch 15/20\n",
            "\u001b[1m438/438\u001b[0m \u001b[32m━━━━━━━━━━━━━━━━━━━━\u001b[0m\u001b[37m\u001b[0m \u001b[1m4s\u001b[0m 6ms/step - loss: 2.8500e-04 - val_loss: 2.4892e-04\n",
            "Epoch 16/20\n",
            "\u001b[1m438/438\u001b[0m \u001b[32m━━━━━━━━━━━━━━━━━━━━\u001b[0m\u001b[37m\u001b[0m \u001b[1m3s\u001b[0m 6ms/step - loss: 2.9622e-04 - val_loss: 2.5978e-04\n",
            "Epoch 17/20\n",
            "\u001b[1m438/438\u001b[0m \u001b[32m━━━━━━━━━━━━━━━━━━━━\u001b[0m\u001b[37m\u001b[0m \u001b[1m6s\u001b[0m 9ms/step - loss: 2.9911e-04 - val_loss: 2.3826e-04\n",
            "Epoch 18/20\n",
            "\u001b[1m438/438\u001b[0m \u001b[32m━━━━━━━━━━━━━━━━━━━━\u001b[0m\u001b[37m\u001b[0m \u001b[1m6s\u001b[0m 10ms/step - loss: 2.6433e-04 - val_loss: 1.9502e-04\n",
            "Epoch 19/20\n",
            "\u001b[1m438/438\u001b[0m \u001b[32m━━━━━━━━━━━━━━━━━━━━\u001b[0m\u001b[37m\u001b[0m \u001b[1m4s\u001b[0m 7ms/step - loss: 2.7573e-04 - val_loss: 2.0234e-04\n",
            "Epoch 20/20\n",
            "\u001b[1m438/438\u001b[0m \u001b[32m━━━━━━━━━━━━━━━━━━━━\u001b[0m\u001b[37m\u001b[0m \u001b[1m6s\u001b[0m 8ms/step - loss: 2.6362e-04 - val_loss: 1.9581e-04\n"
          ]
        }
      ]
    },
    {
      "cell_type": "code",
      "source": [
        "# Predict the last sequence in the dataset\n",
        "last_sequence = temperature_scaled[-sequence_length:]\n",
        "last_sequence = last_sequence.reshape((1, sequence_length, 1))"
      ],
      "metadata": {
        "id": "7Y4bnkjHS-3S"
      },
      "execution_count": 18,
      "outputs": []
    },
    {
      "cell_type": "code",
      "source": [
        "predicted_value = model.predict(last_sequence)"
      ],
      "metadata": {
        "colab": {
          "base_uri": "https://localhost:8080/"
        },
        "id": "GoGec6-XTDx5",
        "outputId": "917c4cda-f5c9-4958-c8b2-23f948f316b4"
      },
      "execution_count": 19,
      "outputs": [
        {
          "output_type": "stream",
          "name": "stdout",
          "text": [
            "\u001b[1m1/1\u001b[0m \u001b[32m━━━━━━━━━━━━━━━━━━━━\u001b[0m\u001b[37m\u001b[0m \u001b[1m0s\u001b[0m 139ms/step\n"
          ]
        }
      ]
    },
    {
      "cell_type": "code",
      "source": [
        "predicted_temperature = scaler.inverse_transform(predicted_value)\n",
        "print(\"Predicted Temperature:\", predicted_temperature[0][0])"
      ],
      "metadata": {
        "colab": {
          "base_uri": "https://localhost:8080/"
        },
        "id": "F7T2VGJdTHoB",
        "outputId": "5e3582f9-bad5-4b59-9300-5fb6369e36c5"
      },
      "execution_count": 20,
      "outputs": [
        {
          "output_type": "stream",
          "name": "stdout",
          "text": [
            "Predicted Temperature: -0.15124613\n"
          ]
        }
      ]
    },
    {
      "cell_type": "code",
      "source": [
        "import matplotlib.pyplot as plt\n",
        "\n",
        "plt.plot(history.history['loss'], label='Training Loss')\n",
        "plt.plot(history.history['val_loss'], label='Validation Loss')\n",
        "plt.xlabel('Epochs')\n",
        "plt.ylabel('Loss')\n",
        "plt.legend()\n",
        "plt.show()"
      ],
      "metadata": {
        "colab": {
          "base_uri": "https://localhost:8080/",
          "height": 449
        },
        "id": "LRHnt1YETLTt",
        "outputId": "e278ec47-f49f-4f69-df66-101d7bf9f5f0"
      },
      "execution_count": 21,
      "outputs": [
        {
          "output_type": "display_data",
          "data": {
            "text/plain": [
              "<Figure size 640x480 with 1 Axes>"
            ],
            "image/png": "[encoded data removed]"
          },
          "metadata": {}
        }
      ]
    }
  ]
}