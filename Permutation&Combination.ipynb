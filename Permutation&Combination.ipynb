{
  "nbformat": 4,
  "nbformat_minor": 0,
  "metadata": {
    "colab": {
      "provenance": [],
      "authorship_tag": "ABX9TyMDqWRj/xBRXgTclVMdfcfJ",
      "include_colab_link": true
    },
    "kernelspec": {
      "name": "python3",
      "display_name": "Python 3"
    },
    "language_info": {
      "name": "python"
    }
  },
  "cells": [
    {
      "cell_type": "markdown",
      "metadata": {
        "id": "view-in-github",
        "colab_type": "text"
      },
      "source": [
        "<a href=\"https://colab.research.google.com/github/Kritika0027/Data-Analytics/blob/main/Permutation%26Combination.ipynb\" target=\"_parent\"><img src=\"https://colab.research.google.com/assets/colab-badge.svg\" alt=\"Open In Colab\"/></a>"
      ]
    },
    {
      "cell_type": "markdown",
      "source": [
        "Permutation"
      ],
      "metadata": {
        "id": "-MwxksNKWo0w"
      }
    },
    {
      "cell_type": "code",
      "execution_count": 1,
      "metadata": {
        "colab": {
          "base_uri": "https://localhost:8080/"
        },
        "id": "gNDKK-9rV0zN",
        "outputId": "dfcad3a3-864b-400e-8e56-64a8056e41a2"
      },
      "outputs": [
        {
          "output_type": "stream",
          "name": "stdout",
          "text": [
            "(1, 2)\n",
            "(1, 3)\n",
            "(2, 1)\n",
            "(2, 3)\n",
            "(3, 1)\n",
            "(3, 2)\n",
            "6\n"
          ]
        }
      ],
      "source": [
        "from itertools import permutations\n",
        "count =0\n",
        "data=[1,2,3]\n",
        "perm=permutations(data,2) #2 arguments\n",
        "for i in list(perm):\n",
        "  print(i)\n",
        "  count+=1\n",
        "print(count)"
      ]
    },
    {
      "cell_type": "markdown",
      "source": [
        "Combination"
      ],
      "metadata": {
        "id": "4-8TF2JsWrzv"
      }
    },
    {
      "cell_type": "code",
      "source": [
        "from itertools import combinations\n",
        "count=0\n",
        "data=[1,2,3]\n",
        "data2=[2,1,3]\n",
        "perm=combinations(data2,2) #2 arguments\n",
        "for i in list(perm):\n",
        "  print(i)\n",
        "  count+=1\n",
        "print(count)"
      ],
      "metadata": {
        "colab": {
          "base_uri": "https://localhost:8080/"
        },
        "id": "Hy6o_GFYWYTF",
        "outputId": "213ab288-f3a9-442e-950f-4616a06c9885"
      },
      "execution_count": 3,
      "outputs": [
        {
          "output_type": "stream",
          "name": "stdout",
          "text": [
            "(2, 1)\n",
            "(2, 3)\n",
            "(1, 3)\n",
            "3\n"
          ]
        }
      ]
    },
    {
      "cell_type": "markdown",
      "source": [
        "COMBINATION INCLUDING THE CURRENT NUMBER AS WELL"
      ],
      "metadata": {
        "id": "EfS8OBF4XCqK"
      }
    },
    {
      "cell_type": "code",
      "source": [
        "from itertools import combinations_with_replacement as cr\n",
        "count =0\n",
        "data=[1,2,3]\n",
        "data2=[2,1,3]\n",
        "perm=cr(data,2) #2 arguments\n",
        "for i in list(perm):\n",
        "  print(i)\n",
        "  count+=1\n",
        "print(count)"
      ],
      "metadata": {
        "colab": {
          "base_uri": "https://localhost:8080/"
        },
        "id": "Q81uR6TsXX6O",
        "outputId": "4d3ad8fc-2ef1-4914-b735-8c659c8bd288"
      },
      "execution_count": 5,
      "outputs": [
        {
          "output_type": "stream",
          "name": "stdout",
          "text": [
            "(1, 1)\n",
            "(1, 2)\n",
            "(1, 3)\n",
            "(2, 2)\n",
            "(2, 3)\n",
            "(3, 3)\n",
            "6\n"
          ]
        }
      ]
    }
  ]
}